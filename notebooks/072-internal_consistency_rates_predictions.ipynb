{
 "cells": [
  {
   "cell_type": "code",
   "execution_count": 1,
   "metadata": {},
   "outputs": [
    {
     "name": "stderr",
     "output_type": "stream",
     "text": [
      "/home/javi/Documentos/software/nilearn/nilearn/datasets/__init__.py:87: FutureWarning: Fetchers from the nilearn.datasets module will be updated in version 0.9 to return python strings instead of bytes and Pandas dataframes instead of Numpy arrays.\n",
      "  warn(\"Fetchers from the nilearn.datasets module will be \"\n"
     ]
    }
   ],
   "source": [
    "import numpy as np\n",
    "import pandas as pd\n",
    "import os\n",
    "from glob import glob\n",
    "from tqdm import tqdm\n",
    "import matplotlib.pylab as plt\n",
    "import seaborn as sns\n",
    "\n",
    "from nilearn import plotting, image\n",
    "from nilearn.masking import apply_mask\n",
    "from sklearn.pipeline import make_pipeline\n",
    "from sklearn.model_selection import GridSearchCV\n",
    "from sklearn.linear_model import Lasso\n",
    "from sklearn.feature_selection import VarianceThreshold\n",
    "from sklearn.decomposition import PCA\n",
    "from sklearn.metrics import r2_score, mean_squared_error\n",
    "from joblib import Memory, dump\n",
    "from tempfile import mkdtemp\n",
    "from my_sklearn_tools.model_selection import StratifiedKFoldReg\n",
    "from sklearn.linear_model._coordinate_descent import _alpha_grid"
   ]
  },
  {
   "cell_type": "code",
   "execution_count": 2,
   "metadata": {},
   "outputs": [
    {
     "data": {
      "application/javascript": [
       "\n",
       "        if (window._pyforest_update_imports_cell) { window._pyforest_update_imports_cell('import os'); }\n",
       "    "
      ],
      "text/plain": [
       "<IPython.core.display.Javascript object>"
      ]
     },
     "metadata": {},
     "output_type": "display_data"
    },
    {
     "name": "stdout",
     "output_type": "stream",
     "text": [
      "All subjects = 176\n",
      "Subjects used = 145\n",
      "Discarded subjects used = 31\n",
      "../data/split_half_data/sub-%s/SplitHalf/ER_1stHalf/%s.nii\n",
      "../data/split_half_data/sub-%s/SplitHalf/ER_2ndHalf/%s.nii\n"
     ]
    },
    {
     "data": {
      "image/png": "[encoded data removed]",
      "text/plain": [
       "<Figure size 475.2x187.2 with 4 Axes>"
      ]
     },
     "metadata": {},
     "output_type": "display_data"
    }
   ],
   "source": [
    "all_subjects = list(map(lambda x: int(x.split(\"sub-\")[1]), os.listdir(\"../data/split_half_data/\")))\n",
    "print(\"All subjects = %d\" % len(all_subjects))\n",
    "\n",
    "final_subjects_used = pd.read_csv(\"../data/final_subjects_used.txt\", header=None).iloc[:,0].to_list()\n",
    "print(\"Subjects used = %d\" % len(final_subjects_used))\n",
    "\n",
    "discarded_subjects = list(set(all_subjects).difference(set(final_subjects_used)))\n",
    "print(\"Discarded subjects used = %d\" % len(discarded_subjects))\n",
    "\n",
    "np.corrcoef(pd.read_csv(\"../data/target_data.csv\").loc[:, \"ePrime.id\"].to_numpy(),\n",
    "             final_subjects_used)\n",
    "\n",
    "gm_mask = \"../data/reslicedER_grey25grey25.nii\" \n",
    "plotting.plot_roi(gm_mask, cut_coords=(0,0,0))\n",
    "pass\n",
    "\n",
    "# Name for each contrast in the files\n",
    "lookneg_vs_lookneut = \"con_0001\"\n",
    "regneg_vs_lookneg = \"con_0002\"\n",
    "\n",
    "er_1_half_pattern =  \"../data/split_half_data/sub-%s/SplitHalf/ER_1stHalf/%s.nii\"\n",
    "print(er_1_half_pattern)\n",
    "\n",
    "er_2_half_pattern =  \"../data/split_half_data/sub-%s/SplitHalf/ER_2ndHalf/%s.nii\"\n",
    "print(er_2_half_pattern)\n",
    "\n",
    "# target data\n",
    "Y_df = pd.read_csv(\"../data/target_data.csv\")"
   ]
  },
  {
   "cell_type": "code",
   "execution_count": 3,
   "metadata": {},
   "outputs": [],
   "source": [
    "def compute_phenotype(grid):\n",
    "    V = grid.best_estimator_.named_steps['pca'].components_ # PCA transformation\n",
    "    beta =  grid.best_estimator_.named_steps['lasso'].coef_ # Coefficients in the PC space\n",
    "    insert_filtered_voxels = grid.best_estimator_.named_steps['variancethreshold'].inverse_transform\n",
    "    w = V.T @ beta\n",
    "    w = w[None,:]\n",
    "    w = insert_filtered_voxels(w)\n",
    "    return np.squeeze(w)"
   ]
  },
  {
   "cell_type": "code",
   "execution_count": 4,
   "metadata": {},
   "outputs": [],
   "source": [
    "def internal_consistency(a,b):\n",
    "    r = np.corrcoef(a,b)[0,1]\n",
    "    r_corrected = (2*r)/(1+r)\n",
    "    return r_corrected"
   ]
  },
  {
   "cell_type": "markdown",
   "metadata": {},
   "source": [
    "# CASE 1: Look Negative vs Look Neutral -> chg_LNeg_LNur "
   ]
  },
  {
   "cell_type": "code",
   "execution_count": 5,
   "metadata": {},
   "outputs": [
    {
     "name": "stderr",
     "output_type": "stream",
     "text": [
      "145it [00:48,  3.00it/s]\n"
     ]
    }
   ],
   "source": [
    "from sklearn.model_selection import LeaveOneOut\n",
    "from joblib import load\n",
    "\n",
    "contrast = lookneg_vs_lookneut\n",
    "\n",
    "loo = LeaveOneOut()\n",
    "\n",
    "dot_11, dot_21 = [],[]\n",
    "i_fold=1\n",
    "for _, test_index in tqdm(loo.split(np.zeros(len(final_subjects_used)))):\n",
    "    leave_out_subject = final_subjects_used[test_index[0]]\n",
    "    model = load(\"../results/prediction/chg_LNeg_LNur/look_neg_look_neut/models/fold_%.3d.joblib\" % i_fold)\n",
    "    w = compute_phenotype(model)\n",
    "    \n",
    "    X_test_1 = apply_mask(er_1_half_pattern % (leave_out_subject, contrast), mask_img = gm_mask)\n",
    "    dot_11.append(X_test_1.dot(w))\n",
    "    \n",
    "    X_test_2 = apply_mask(er_2_half_pattern % (leave_out_subject, contrast), mask_img = gm_mask)\n",
    "    dot_21.append(X_test_2.dot(w))\n",
    "    \n",
    "    i_fold += 1"
   ]
  },
  {
   "cell_type": "code",
   "execution_count": 6,
   "metadata": {},
   "outputs": [
    {
     "name": "stdout",
     "output_type": "stream",
     "text": [
      "Spearman-Brown Internal Consistency using the weights from the whole data: 0.474\n"
     ]
    }
   ],
   "source": [
    "# Conservative way\n",
    "sb_icc_whole = internal_consistency(dot_11, dot_21)\n",
    "print(\"Spearman-Brown Internal Consistency \" \n",
    "      \"using the weights from the whole data: %.3f\" % sb_icc_whole)"
   ]
  },
  {
   "cell_type": "code",
   "execution_count": 16,
   "metadata": {},
   "outputs": [
    {
     "name": "stdout",
     "output_type": "stream",
     "text": [
      "Spearman-Brown Internal Consistency using the weights from the whole data: 0.688\n"
     ]
    }
   ],
   "source": [
    "# Inflated case\n",
    "X_half_11 = apply_mask([er_1_half_pattern % (subj, lookneg_vs_lookneut) for subj in final_subjects_used],\n",
    "                       mask_img=gm_mask)\n",
    "X_half_12 = apply_mask([er_2_half_pattern % (subj, lookneg_vs_lookneut) for subj in final_subjects_used],\n",
    "                       mask_img=gm_mask)\n",
    "w_full_1 = np.load(\"../results/phenotypes/chg_LNeg_LNur/look_neg_look_neut/decoding_weights.npy\")\n",
    "print(\"Spearman-Brown Internal Consistency \" \n",
    "      \"using the weights from the whole data: %.3f\" % internal_consistency(X_half_11.dot(w_full_1), \n",
    "                                                                           X_half_12.dot(w_full_1)))"
   ]
  },
  {
   "cell_type": "markdown",
   "metadata": {},
   "source": [
    "# CASE 2: Regulate Negative vs Look Negative -> chg_RNeg_LNeg "
   ]
  },
  {
   "cell_type": "code",
   "execution_count": 18,
   "metadata": {},
   "outputs": [
    {
     "name": "stderr",
     "output_type": "stream",
     "text": [
      "145it [01:06,  2.19it/s]\n"
     ]
    }
   ],
   "source": [
    "from sklearn.model_selection import LeaveOneOut\n",
    "from joblib import load\n",
    "\n",
    "contrast = regneg_vs_lookneg\n",
    "\n",
    "loo = LeaveOneOut()\n",
    "\n",
    "dot_12, dot_22 = [],[]\n",
    "i_fold=1\n",
    "for _, test_index in tqdm(loo.split(np.zeros(len(final_subjects_used)))):\n",
    "    leave_out_subject = final_subjects_used[test_index[0]]\n",
    "    model = load(\"../results/prediction/chg_RNeg_LNeg/reg_neg_look_neg/models/fold_%.3d.joblib\" % i_fold)\n",
    "    w = compute_phenotype(model)\n",
    "    \n",
    "    X_test_1 = apply_mask(er_1_half_pattern % (leave_out_subject, contrast), mask_img = gm_mask)\n",
    "    dot_12.append(X_test_1.dot(w))\n",
    "    \n",
    "    X_test_2 = apply_mask(er_2_half_pattern % (leave_out_subject, contrast), mask_img = gm_mask)\n",
    "    dot_22.append(X_test_2.dot(w))\n",
    "    \n",
    "    i_fold += 1"
   ]
  },
  {
   "cell_type": "code",
   "execution_count": 115,
   "metadata": {},
   "outputs": [
    {
     "name": "stderr",
     "output_type": "stream",
     "text": [
      "145it [04:38,  1.92s/it]\n"
     ]
    }
   ],
   "source": [
    "from sklearn.model_selection import LeaveOneOut\n",
    "from joblib import load\n",
    "\n",
    "contrast = regneg_vs_lookneg\n",
    "\n",
    "loo = LeaveOneOut()\n",
    "\n",
    "dot_12, dot_22 = [],[]\n",
    "i_fold=1\n",
    "for _, test_index in tqdm(loo.split(np.zeros(len(final_subjects_used)))):\n",
    "    leave_out_subject = final_subjects_used[test_index[0]]\n",
    "    model = load(\"../results/prediction/chg_RNeg_LNeg/reg_neg_look_neg/models/fold_%.3d.joblib\" % i_fold)\n",
    "    w = compute_phenotype(model)\n",
    "    \n",
    "    X_test_1 = apply_mask(er_1_half_pattern % (leave_out_subject, contrast), mask_img = gm_mask)\n",
    "    dot_12.append(X_test_1.dot(w))\n",
    "    \n",
    "    X_test_2 = apply_mask(er_2_half_pattern % (leave_out_subject, contrast), mask_img = gm_mask)\n",
    "    dot_22.append(X_test_2.dot(w))\n",
    "    \n",
    "    i_fold += 1\n",
    "#compute_phenotype(load(\"../results/prediction/chg_RNeg_LNeg/reg_neg_look_neg/models/fold_001.joblib\"))\n",
    "#internal_consistency(X_test_1.dot(w), X_test_2.dot(w))"
   ]
  },
  {
   "cell_type": "code",
   "execution_count": 19,
   "metadata": {},
   "outputs": [
    {
     "name": "stdout",
     "output_type": "stream",
     "text": [
      "Spearman-Brown Internal Consistency using the weights from the whole data: 0.390\n"
     ]
    }
   ],
   "source": [
    "sb_icc_whole = internal_consistency(dot_12, dot_22)\n",
    "print(\"Spearman-Brown Internal Consistency \" \n",
    "      \"using the weights from the whole data: %.3f\" % sb_icc_whole)"
   ]
  },
  {
   "cell_type": "code",
   "execution_count": 20,
   "metadata": {},
   "outputs": [
    {
     "name": "stdout",
     "output_type": "stream",
     "text": [
      "Spearman-Brown Internal Consistency using the weights from the whole data: 0.858\n"
     ]
    }
   ],
   "source": [
    "# Inflated case\n",
    "X_half_21 = apply_mask([er_1_half_pattern % (subj, regneg_vs_lookneg) for subj in final_subjects_used],\n",
    "                       mask_img=gm_mask)\n",
    "X_half_22 = apply_mask([er_2_half_pattern % (subj, regneg_vs_lookneg) for subj in final_subjects_used],\n",
    "                       mask_img=gm_mask)\n",
    "w_full_2 = np.load(\"../results/phenotypes/chg_RNeg_LNeg/reg_neg_look_neg/decoding_weights.npy\")\n",
    "print(\"Spearman-Brown Internal Consistency \" \n",
    "      \"using the weights from the whole data: %.3f\" % internal_consistency(X_half_21.dot(w_full_2), \n",
    "                                                                           X_half_22.dot(w_full_2)))"
   ]
  }
 ],
 "metadata": {
  "kernelspec": {
   "display_name": "Python 3 (ipykernel)",
   "language": "python",
   "name": "python3"
  },
  "language_info": {
   "codemirror_mode": {
    "name": "ipython",
    "version": 3
   },
   "file_extension": ".py",
   "mimetype": "text/x-python",
   "name": "python",
   "nbconvert_exporter": "python",
   "pygments_lexer": "ipython3",
   "version": "3.8.11"
  }
 },
 "nbformat": 4,
 "nbformat_minor": 4
}
