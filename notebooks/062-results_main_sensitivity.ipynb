{
 "cells": [
  {
   "cell_type": "markdown",
   "metadata": {},
   "source": [
    "In this notebook we compute the statistics from the predictions. The reason for using R instead of python in this occasion is to able to use the BayesFactor package"
   ]
  },
  {
   "cell_type": "code",
   "execution_count": 1,
   "metadata": {},
   "outputs": [
    {
     "name": "stderr",
     "output_type": "stream",
     "text": [
      "Loading required package: BayesFactor\n",
      "\n",
      "Loading required package: coda\n",
      "\n",
      "Loading required package: Matrix\n",
      "\n",
      "************\n",
      "Welcome to BayesFactor 0.9.12-4.2. If you have questions, please contact Richard Morey (richarddmorey@gmail.com).\n",
      "\n",
      "Type BFManual() to open the manual.\n",
      "************\n",
      "\n",
      "Loading required package: boot\n",
      "\n"
     ]
    }
   ],
   "source": [
    "require(BayesFactor)\n",
    "require(boot)"
   ]
  },
  {
   "cell_type": "code",
   "execution_count": 2,
   "metadata": {},
   "outputs": [],
   "source": [
    "r2_score<-function(y_pred, y_true){\n",
    "    ss_res<- sum((y_pred-y_true)**2)\n",
    "    \n",
    "    mu_true = mean(y_true)\n",
    "    \n",
    "    ss_tot<-sum((y_true-mu_true)**2)\n",
    "    \n",
    "    r2<-1 - ss_res/ss_tot\n",
    "    r2\n",
    "}\n",
    "\n",
    "mean_absolute_error<-function(y_pred, y_true){\n",
    "    mean(abs(y_pred-y_true))\n",
    "}\n",
    "\n",
    "mean_square_error<-function(y_pred, y_true){\n",
    "    mean((y_pred-y_true)**2)\n",
    "}"
   ]
  },
  {
   "cell_type": "code",
   "execution_count": 3,
   "metadata": {},
   "outputs": [],
   "source": [
    "results_dir<-\"../results/prediction_sensitivity\""
   ]
  },
  {
   "cell_type": "code",
   "execution_count": 4,
   "metadata": {},
   "outputs": [],
   "source": [
    "target_cases<-c(\"mavgccaf_chgPerYr\", \"yeo-johnson_Site_of_Fastest_IMT_Max_Progr\")"
   ]
  },
  {
   "cell_type": "code",
   "execution_count": 5,
   "metadata": {},
   "outputs": [],
   "source": [
    "RANDOM_STATE<-0"
   ]
  },
  {
   "cell_type": "code",
   "execution_count": 6,
   "metadata": {},
   "outputs": [
    {
     "data": {
      "text/html": [
       "<table class=\"dataframe\">\n",
       "<caption>A data.frame: 4 × 9</caption>\n",
       "<thead>\n",
       "\t<tr><th></th><th scope=col>target</th><th scope=col>contrast</th><th scope=col>r</th><th scope=col>r_l_95CI</th><th scope=col>r_u_95CI</th><th scope=col>MAE</th><th scope=col>R2</th><th scope=col>BF10</th><th scope=col>BF01</th></tr>\n",
       "\t<tr><th></th><th scope=col>&lt;chr&gt;</th><th scope=col>&lt;chr&gt;</th><th scope=col>&lt;chr&gt;</th><th scope=col>&lt;chr&gt;</th><th scope=col>&lt;chr&gt;</th><th scope=col>&lt;chr&gt;</th><th scope=col>&lt;chr&gt;</th><th scope=col>&lt;chr&gt;</th><th scope=col>&lt;chr&gt;</th></tr>\n",
       "</thead>\n",
       "<tbody>\n",
       "\t<tr><th scope=row>1</th><td>mavgccaf_chgPerYr                        </td><td>look_neg_look_neut</td><td>-0.295</td><td>-0.881</td><td>-0.267</td><td>0.017</td><td>-0.032</td><td>0.044</td><td>22.523</td></tr>\n",
       "\t<tr><th scope=row>2</th><td>yeo-johnson_Site_of_Fastest_IMT_Max_Progr</td><td>look_neg_look_neut</td><td>-0.48 </td><td>-0.785</td><td>-0.348</td><td>0.051</td><td>-0.045</td><td>0.029</td><td>35.022</td></tr>\n",
       "\t<tr><th scope=row>3</th><td>mavgccaf_chgPerYr                        </td><td>reg_neg_look_neg  </td><td>-0.799</td><td>-0.938</td><td>-0.653</td><td>0.017</td><td>-0.016</td><td>0.017</td><td>57.171</td></tr>\n",
       "\t<tr><th scope=row>4</th><td>yeo-johnson_Site_of_Fastest_IMT_Max_Progr</td><td>reg_neg_look_neg  </td><td>-0.348</td><td>-0.518</td><td>-0.285</td><td>0.051</td><td>-0.044</td><td>0.038</td><td>26.072</td></tr>\n",
       "</tbody>\n",
       "</table>\n"
      ],
      "text/latex": [
       "A data.frame: 4 × 9\n",
       "\\begin{tabular}{r|lllllllll}\n",
       "  & target & contrast & r & r\\_l\\_95CI & r\\_u\\_95CI & MAE & R2 & BF10 & BF01\\\\\n",
       "  & <chr> & <chr> & <chr> & <chr> & <chr> & <chr> & <chr> & <chr> & <chr>\\\\\n",
       "\\hline\n",
       "\t1 & mavgccaf\\_chgPerYr                         & look\\_neg\\_look\\_neut & -0.295 & -0.881 & -0.267 & 0.017 & -0.032 & 0.044 & 22.523\\\\\n",
       "\t2 & yeo-johnson\\_Site\\_of\\_Fastest\\_IMT\\_Max\\_Progr & look\\_neg\\_look\\_neut & -0.48  & -0.785 & -0.348 & 0.051 & -0.045 & 0.029 & 35.022\\\\\n",
       "\t3 & mavgccaf\\_chgPerYr                         & reg\\_neg\\_look\\_neg   & -0.799 & -0.938 & -0.653 & 0.017 & -0.016 & 0.017 & 57.171\\\\\n",
       "\t4 & yeo-johnson\\_Site\\_of\\_Fastest\\_IMT\\_Max\\_Progr & reg\\_neg\\_look\\_neg   & -0.348 & -0.518 & -0.285 & 0.051 & -0.044 & 0.038 & 26.072\\\\\n",
       "\\end{tabular}\n"
      ],
      "text/markdown": [
       "\n",
       "A data.frame: 4 × 9\n",
       "\n",
       "| <!--/--> | target &lt;chr&gt; | contrast &lt;chr&gt; | r &lt;chr&gt; | r_l_95CI &lt;chr&gt; | r_u_95CI &lt;chr&gt; | MAE &lt;chr&gt; | R2 &lt;chr&gt; | BF10 &lt;chr&gt; | BF01 &lt;chr&gt; |\n",
       "|---|---|---|---|---|---|---|---|---|---|\n",
       "| 1 | mavgccaf_chgPerYr                         | look_neg_look_neut | -0.295 | -0.881 | -0.267 | 0.017 | -0.032 | 0.044 | 22.523 |\n",
       "| 2 | yeo-johnson_Site_of_Fastest_IMT_Max_Progr | look_neg_look_neut | -0.48  | -0.785 | -0.348 | 0.051 | -0.045 | 0.029 | 35.022 |\n",
       "| 3 | mavgccaf_chgPerYr                         | reg_neg_look_neg   | -0.799 | -0.938 | -0.653 | 0.017 | -0.016 | 0.017 | 57.171 |\n",
       "| 4 | yeo-johnson_Site_of_Fastest_IMT_Max_Progr | reg_neg_look_neg   | -0.348 | -0.518 | -0.285 | 0.051 | -0.044 | 0.038 | 26.072 |\n",
       "\n"
      ],
      "text/plain": [
       "  target                                    contrast           r      r_l_95CI\n",
       "1 mavgccaf_chgPerYr                         look_neg_look_neut -0.295 -0.881  \n",
       "2 yeo-johnson_Site_of_Fastest_IMT_Max_Progr look_neg_look_neut -0.48  -0.785  \n",
       "3 mavgccaf_chgPerYr                         reg_neg_look_neg   -0.799 -0.938  \n",
       "4 yeo-johnson_Site_of_Fastest_IMT_Max_Progr reg_neg_look_neg   -0.348 -0.518  \n",
       "  r_u_95CI MAE   R2     BF10  BF01  \n",
       "1 -0.267   0.017 -0.032 0.044 22.523\n",
       "2 -0.348   0.051 -0.045 0.029 35.022\n",
       "3 -0.653   0.017 -0.016 0.017 57.171\n",
       "4 -0.285   0.051 -0.044 0.038 26.072"
      ]
     },
     "metadata": {},
     "output_type": "display_data"
    }
   ],
   "source": [
    "res_df <- data.frame(target=character(),\n",
    "                     contrast=character(), \n",
    "                     r=numeric(),\n",
    "                     r_l_95CI = numeric(),\n",
    "                     r_u_95CI = numeric(),\n",
    "                     #pval = numeric(),\n",
    "                     #MSE=numeric(),\n",
    "                     MAE=numeric(),\n",
    "                     R2=numeric(), \n",
    "                     BF10 = numeric(),\n",
    "                     BF01 = numeric(),\n",
    "                     stringsAsFactors=FALSE) \n",
    "\n",
    "\n",
    "set.seed(RANDOM_STATE)\n",
    "row_ix<-1\n",
    "\n",
    "\n",
    "for(contrast_id in c(\"look_neg_look_neut\", \"reg_neg_look_neg\")){\n",
    "    for(targ_case in target_cases){\n",
    "\n",
    "    res_case<-c(targ_case, contrast_id)\n",
    "\n",
    "    y_results_df<-read.csv(file.path(results_dir, targ_case, contrast_id, \"y_preds.csv\"))\n",
    "\n",
    "    y_pred<-y_results_df[,\"y_pred\"]\n",
    "    y_true<-y_results_df[,\"y_true\"]\n",
    "\n",
    "    r2<-r2_score(y_pred, y_true)\n",
    "    mse<-mean_square_error(y_pred, y_true)\n",
    "    mae<-mean_absolute_error(y_pred, y_true)\n",
    "\n",
    "    corrs.res<-cor.test(y_pred, y_true, alternative=\"greater\")\n",
    "    r<-corrs.res$estimate\n",
    "    b_object <- boot(y_results_df, \n",
    "               statistic = function(data, i){cor(data[i, \"y_pred\"], data[i, \"y_true\"], method='pearson')},\n",
    "               R = 1000)\n",
    "    r_boots<-boot.ci(b_object, type = \"perc\")\n",
    "\n",
    "    pv<-corrs.res$p.value\n",
    "\n",
    "    r_l_95CI <- r_boots$perc[4]\n",
    "    r_u_95CI <- r_boots$perc[5]\n",
    "\n",
    "    bf_10<-as.vector(correlationBF( y_true, y_pred, nullInterval = c(0,1))[1])\n",
    "    bf_01<-1/bf_10\n",
    "\n",
    "    res_case<-c(res_case, round(c(r, r_l_95CI, r_u_95CI,  mae, r2, bf_10, bf_01), 3))\n",
    "    res_df[row_ix, ]<- res_case\n",
    "    row_ix =row_ix + 1\n",
    "\n",
    "    }\n",
    "}\n",
    "\n",
    "res_df"
   ]
  },
  {
   "cell_type": "code",
   "execution_count": 8,
   "metadata": {},
   "outputs": [],
   "source": [
    "#read.csv(file.path(results_dir, targ_case, contrast_id, \"y_preds.csv\"))"
   ]
  },
  {
   "cell_type": "code",
   "execution_count": null,
   "metadata": {},
   "outputs": [],
   "source": []
  }
 ],
 "metadata": {
  "kernelspec": {
   "display_name": "R",
   "language": "R",
   "name": "ir"
  },
  "language_info": {
   "codemirror_mode": "r",
   "file_extension": ".r",
   "mimetype": "text/x-r-source",
   "name": "R",
   "pygments_lexer": "r",
   "version": "3.6.3"
  }
 },
 "nbformat": 4,
 "nbformat_minor": 4
}
