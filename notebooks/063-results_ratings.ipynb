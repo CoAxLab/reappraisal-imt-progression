{
 "cells": [
  {
   "cell_type": "markdown",
   "metadata": {},
   "source": [
    "In this notebook we compute the statistics from the predictions. The reason for using R instead of python in this occasion is to able to use the BayesFactor package"
   ]
  },
  {
   "cell_type": "code",
   "execution_count": 7,
   "metadata": {},
   "outputs": [],
   "source": [
    "require(BayesFactor)\n",
    "require(boot)"
   ]
  },
  {
   "cell_type": "code",
   "execution_count": 8,
   "metadata": {},
   "outputs": [],
   "source": [
    "r2_score<-function(y_pred, y_true){\n",
    "    ss_res<- sum((y_pred-y_true)**2)\n",
    "    \n",
    "    mu_true = mean(y_true)\n",
    "    \n",
    "    ss_tot<-sum((y_true-mu_true)**2)\n",
    "    \n",
    "    r2<-1 - ss_res/ss_tot\n",
    "    r2\n",
    "}\n",
    "\n",
    "mean_absolute_error<-function(y_pred, y_true){\n",
    "    mean(abs(y_pred-y_true))\n",
    "}\n",
    "\n",
    "mean_square_error<-function(y_pred, y_true){\n",
    "    mean((y_pred-y_true)**2)\n",
    "}"
   ]
  },
  {
   "cell_type": "code",
   "execution_count": 9,
   "metadata": {},
   "outputs": [],
   "source": [
    "results_dir<-\"../results/prediction\""
   ]
  },
  {
   "cell_type": "code",
   "execution_count": 10,
   "metadata": {},
   "outputs": [],
   "source": [
    "RANDOM_STATE<-0"
   ]
  },
  {
   "cell_type": "code",
   "execution_count": 11,
   "metadata": {},
   "outputs": [
    {
     "data": {
      "text/html": [
       "<table class=\"dataframe\">\n",
       "<caption>A data.frame: 2 × 10</caption>\n",
       "<thead>\n",
       "\t<tr><th></th><th scope=col>target</th><th scope=col>contrast</th><th scope=col>r</th><th scope=col>r_l_95CI</th><th scope=col>r_u_95CI</th><th scope=col>pval</th><th scope=col>MAE</th><th scope=col>R2</th><th scope=col>BF10</th><th scope=col>BF01</th></tr>\n",
       "\t<tr><th></th><th scope=col>&lt;chr&gt;</th><th scope=col>&lt;chr&gt;</th><th scope=col>&lt;chr&gt;</th><th scope=col>&lt;chr&gt;</th><th scope=col>&lt;chr&gt;</th><th scope=col>&lt;chr&gt;</th><th scope=col>&lt;chr&gt;</th><th scope=col>&lt;chr&gt;</th><th scope=col>&lt;chr&gt;</th><th scope=col>&lt;chr&gt;</th></tr>\n",
       "</thead>\n",
       "<tbody>\n",
       "\t<tr><th scope=row>1</th><td>chg_LNeg_LNur</td><td>look_neg_look_neut</td><td>0.143</td><td>-0.027</td><td>0.308</td><td>0.043</td><td>0.52 </td><td>0.015</td><td>1.521     </td><td>0.658</td></tr>\n",
       "\t<tr><th scope=row>2</th><td>chg_RNeg_LNeg</td><td>reg_neg_look_neg  </td><td>0.457</td><td>0.306 </td><td>0.593</td><td>0    </td><td>0.418</td><td>0.209</td><td>3819342.53</td><td>0    </td></tr>\n",
       "</tbody>\n",
       "</table>\n"
      ],
      "text/latex": [
       "A data.frame: 2 × 10\n",
       "\\begin{tabular}{r|llllllllll}\n",
       "  & target & contrast & r & r\\_l\\_95CI & r\\_u\\_95CI & pval & MAE & R2 & BF10 & BF01\\\\\n",
       "  & <chr> & <chr> & <chr> & <chr> & <chr> & <chr> & <chr> & <chr> & <chr> & <chr>\\\\\n",
       "\\hline\n",
       "\t1 & chg\\_LNeg\\_LNur & look\\_neg\\_look\\_neut & 0.143 & -0.027 & 0.308 & 0.043 & 0.52  & 0.015 & 1.521      & 0.658\\\\\n",
       "\t2 & chg\\_RNeg\\_LNeg & reg\\_neg\\_look\\_neg   & 0.457 & 0.306  & 0.593 & 0     & 0.418 & 0.209 & 3819342.53 & 0    \\\\\n",
       "\\end{tabular}\n"
      ],
      "text/markdown": [
       "\n",
       "A data.frame: 2 × 10\n",
       "\n",
       "| <!--/--> | target &lt;chr&gt; | contrast &lt;chr&gt; | r &lt;chr&gt; | r_l_95CI &lt;chr&gt; | r_u_95CI &lt;chr&gt; | pval &lt;chr&gt; | MAE &lt;chr&gt; | R2 &lt;chr&gt; | BF10 &lt;chr&gt; | BF01 &lt;chr&gt; |\n",
       "|---|---|---|---|---|---|---|---|---|---|---|\n",
       "| 1 | chg_LNeg_LNur | look_neg_look_neut | 0.143 | -0.027 | 0.308 | 0.043 | 0.52  | 0.015 | 1.521      | 0.658 |\n",
       "| 2 | chg_RNeg_LNeg | reg_neg_look_neg   | 0.457 | 0.306  | 0.593 | 0     | 0.418 | 0.209 | 3819342.53 | 0     |\n",
       "\n"
      ],
      "text/plain": [
       "  target        contrast           r     r_l_95CI r_u_95CI pval  MAE   R2   \n",
       "1 chg_LNeg_LNur look_neg_look_neut 0.143 -0.027   0.308    0.043 0.52  0.015\n",
       "2 chg_RNeg_LNeg reg_neg_look_neg   0.457 0.306    0.593    0     0.418 0.209\n",
       "  BF10       BF01 \n",
       "1 1.521      0.658\n",
       "2 3819342.53 0    "
      ]
     },
     "metadata": {},
     "output_type": "display_data"
    }
   ],
   "source": [
    "res_df <- data.frame(target=character(),\n",
    "                     contrast=character(), \n",
    "                     r=numeric(),\n",
    "                     r_l_95CI = numeric(),\n",
    "                     r_u_95CI = numeric(),\n",
    "                     pval = numeric(),\n",
    "                     #MSE=numeric(),\n",
    "                     MAE=numeric(),\n",
    "                     R2=numeric(), \n",
    "                     BF10 = numeric(),\n",
    "                     BF01 = numeric(),\n",
    "                     stringsAsFactors=FALSE) \n",
    "\n",
    "\n",
    "set.seed(RANDOM_STATE)\n",
    "row_ix<-1\n",
    "\n",
    "cases<-list(c(\"look_neg_look_neut\", \"chg_LNeg_LNur\"),\n",
    "            c(\"reg_neg_look_neg\", \"chg_RNeg_LNeg\")\n",
    "           )\n",
    "\n",
    "for(ii in c(1,2)){\n",
    "    contrast_id <- cases[[ii]][1]\n",
    "    targ_case <- cases[[ii]][2]\n",
    "    \n",
    "    res_case<-c(targ_case, contrast_id)\n",
    "\n",
    "    y_results_df<-read.csv(file.path(results_dir, targ_case, contrast_id, \"y_preds.csv\"))\n",
    "\n",
    "    y_pred<-y_results_df[,\"y_pred\"]\n",
    "    y_true<-y_results_df[,\"y_true\"]\n",
    "\n",
    "    r2<-r2_score(y_pred, y_true)\n",
    "    mse<-mean_square_error(y_pred, y_true)\n",
    "    mae<-mean_absolute_error(y_pred, y_true)\n",
    "\n",
    "    corrs.res<-cor.test(y_pred, y_true, alternative=\"greater\")\n",
    "    r<-corrs.res$estimate\n",
    "    b_object <- boot(y_results_df, \n",
    "               statistic = function(data, i){cor(data[i, \"y_pred\"], data[i, \"y_true\"], method='pearson')},\n",
    "               R = 1000)\n",
    "    r_boots<-boot.ci(b_object, type = \"perc\")\n",
    "\n",
    "    pv<-corrs.res$p.value\n",
    "\n",
    "    r_l_95CI <- r_boots$perc[4]\n",
    "    r_u_95CI <- r_boots$perc[5]\n",
    "\n",
    "    bf_10<-as.vector(correlationBF( y_true, y_pred, nullInterval = c(0,1))[1])\n",
    "    bf_01<-1/bf_10\n",
    "\n",
    "    res_case<-c(res_case, round(c(r, r_l_95CI, r_u_95CI,  pv, mae, r2, bf_10, bf_01), 3))\n",
    "    res_df[row_ix, ]<- res_case\n",
    "    row_ix =row_ix + 1\n",
    "\n",
    "    \n",
    "}\n",
    "\n",
    "res_df"
   ]
  },
  {
   "cell_type": "code",
   "execution_count": 5,
   "metadata": {},
   "outputs": [
    {
     "data": {
      "text/html": [
       "<table class=\"dataframe\">\n",
       "<caption>A data.frame: 2 × 10</caption>\n",
       "<thead>\n",
       "\t<tr><th></th><th scope=col>target</th><th scope=col>contrast</th><th scope=col>r</th><th scope=col>r_l_95CI</th><th scope=col>r_u_95CI</th><th scope=col>pval</th><th scope=col>MAE</th><th scope=col>R2</th><th scope=col>BF10</th><th scope=col>BF01</th></tr>\n",
       "\t<tr><th></th><th scope=col>&lt;chr&gt;</th><th scope=col>&lt;chr&gt;</th><th scope=col>&lt;chr&gt;</th><th scope=col>&lt;chr&gt;</th><th scope=col>&lt;chr&gt;</th><th scope=col>&lt;chr&gt;</th><th scope=col>&lt;chr&gt;</th><th scope=col>&lt;chr&gt;</th><th scope=col>&lt;chr&gt;</th><th scope=col>&lt;chr&gt;</th></tr>\n",
       "</thead>\n",
       "<tbody>\n",
       "\t<tr><th scope=row>1</th><td>chg_LNeg_LNur</td><td>look_neg_look_neut</td><td>0.143</td><td>-0.027</td><td>0.308</td><td>0.043</td><td>0.52 </td><td>0.015</td><td>1.515      </td><td>0.66</td></tr>\n",
       "\t<tr><th scope=row>2</th><td>chg_RNeg_LNeg</td><td>reg_neg_look_neg  </td><td>0.457</td><td>0.306 </td><td>0.593</td><td>0    </td><td>0.418</td><td>0.209</td><td>3817080.417</td><td>0   </td></tr>\n",
       "</tbody>\n",
       "</table>\n"
      ],
      "text/latex": [
       "A data.frame: 2 × 10\n",
       "\\begin{tabular}{r|llllllllll}\n",
       "  & target & contrast & r & r\\_l\\_95CI & r\\_u\\_95CI & pval & MAE & R2 & BF10 & BF01\\\\\n",
       "  & <chr> & <chr> & <chr> & <chr> & <chr> & <chr> & <chr> & <chr> & <chr> & <chr>\\\\\n",
       "\\hline\n",
       "\t1 & chg\\_LNeg\\_LNur & look\\_neg\\_look\\_neut & 0.143 & -0.027 & 0.308 & 0.043 & 0.52  & 0.015 & 1.515       & 0.66\\\\\n",
       "\t2 & chg\\_RNeg\\_LNeg & reg\\_neg\\_look\\_neg   & 0.457 & 0.306  & 0.593 & 0     & 0.418 & 0.209 & 3817080.417 & 0   \\\\\n",
       "\\end{tabular}\n"
      ],
      "text/markdown": [
       "\n",
       "A data.frame: 2 × 10\n",
       "\n",
       "| <!--/--> | target &lt;chr&gt; | contrast &lt;chr&gt; | r &lt;chr&gt; | r_l_95CI &lt;chr&gt; | r_u_95CI &lt;chr&gt; | pval &lt;chr&gt; | MAE &lt;chr&gt; | R2 &lt;chr&gt; | BF10 &lt;chr&gt; | BF01 &lt;chr&gt; |\n",
       "|---|---|---|---|---|---|---|---|---|---|---|\n",
       "| 1 | chg_LNeg_LNur | look_neg_look_neut | 0.143 | -0.027 | 0.308 | 0.043 | 0.52  | 0.015 | 1.515       | 0.66 |\n",
       "| 2 | chg_RNeg_LNeg | reg_neg_look_neg   | 0.457 | 0.306  | 0.593 | 0     | 0.418 | 0.209 | 3817080.417 | 0    |\n",
       "\n"
      ],
      "text/plain": [
       "  target        contrast           r     r_l_95CI r_u_95CI pval  MAE   R2   \n",
       "1 chg_LNeg_LNur look_neg_look_neut 0.143 -0.027   0.308    0.043 0.52  0.015\n",
       "2 chg_RNeg_LNeg reg_neg_look_neg   0.457 0.306    0.593    0     0.418 0.209\n",
       "  BF10        BF01\n",
       "1 1.515       0.66\n",
       "2 3817080.417 0   "
      ]
     },
     "metadata": {},
     "output_type": "display_data"
    }
   ],
   "source": [
    "res_df <- data.frame(target=character(),\n",
    "                     contrast=character(), \n",
    "                     r=numeric(),\n",
    "                     r_l_95CI = numeric(),\n",
    "                     r_u_95CI = numeric(),\n",
    "                     pval = numeric(),\n",
    "                     #MSE=numeric(),\n",
    "                     MAE=numeric(),\n",
    "                     R2=numeric(), \n",
    "                     BF10 = numeric(),\n",
    "                     BF01 = numeric(),\n",
    "                     stringsAsFactors=FALSE) \n",
    "\n",
    "\n",
    "set.seed(RANDOM_STATE)\n",
    "row_ix<-1\n",
    "\n",
    "cases<-list(c(\"look_neg_look_neut\", \"chg_LNeg_LNur\"),\n",
    "            c(\"reg_neg_look_neg\", \"chg_RNeg_LNeg\")\n",
    "           )\n",
    "\n",
    "for(ii in c(1,2)){\n",
    "    contrast_id <- cases[[ii]][1]\n",
    "    targ_case <- cases[[ii]][2]\n",
    "    \n",
    "    res_case<-c(targ_case, contrast_id)\n",
    "\n",
    "    y_results_df<-read.csv(file.path(results_dir, targ_case, contrast_id, \"y_preds.csv\"))\n",
    "\n",
    "    y_pred<-y_results_df[,\"y_pred\"]\n",
    "    y_true<-y_results_df[,\"y_true\"]\n",
    "\n",
    "    r2<-r2_score(y_pred, y_true)\n",
    "    mse<-mean_square_error(y_pred, y_true)\n",
    "    mae<-mean_absolute_error(y_pred, y_true)\n",
    "\n",
    "    corrs.res<-cor.test(y_pred, y_true, alternative=\"greater\")\n",
    "    r<-corrs.res$estimate\n",
    "    b_object <- boot(y_results_df, \n",
    "               statistic = function(data, i){cor(data[i, \"y_pred\"], data[i, \"y_true\"], method='pearson')},\n",
    "               R = 1000)\n",
    "    r_boots<-boot.ci(b_object, type = \"perc\")\n",
    "\n",
    "    pv<-corrs.res$p.value\n",
    "\n",
    "    r_l_95CI <- r_boots$perc[4]\n",
    "    r_u_95CI <- r_boots$perc[5]\n",
    "\n",
    "    bf_10<-as.vector(correlationBF( y_true, y_pred, nullInterval = c(0,1))[1])\n",
    "    bf_01<-1/bf_10\n",
    "\n",
    "    res_case<-c(res_case, round(c(r, r_l_95CI, r_u_95CI,  pv, mae, r2, bf_10, bf_01), 3))\n",
    "    res_df[row_ix, ]<- res_case\n",
    "    row_ix =row_ix + 1\n",
    "\n",
    "    \n",
    "}\n",
    "\n",
    "res_df"
   ]
  },
  {
   "cell_type": "code",
   "execution_count": null,
   "metadata": {},
   "outputs": [],
   "source": []
  }
 ],
 "metadata": {
  "kernelspec": {
   "display_name": "R",
   "language": "R",
   "name": "ir"
  },
  "language_info": {
   "codemirror_mode": "r",
   "file_extension": ".r",
   "mimetype": "text/x-r-source",
   "name": "R",
   "pygments_lexer": "r",
   "version": "3.6.3"
  }
 },
 "nbformat": 4,
 "nbformat_minor": 4
}
