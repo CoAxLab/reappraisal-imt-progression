{
 "cells": [
  {
   "cell_type": "code",
   "execution_count": 1,
   "metadata": {},
   "outputs": [],
   "source": [
    "import numpy as np\n",
    "import pandas as pd"
   ]
  },
  {
   "cell_type": "code",
   "execution_count": 2,
   "metadata": {},
   "outputs": [],
   "source": [
    "YY_df = pd.read_csv(\"../data/Thomas_Javi_ML_Share_PIP_Reappraisal_IMT_Longitudinal_02_NOV_2020.csv\", na_values=' ')"
   ]
  },
  {
   "cell_type": "code",
   "execution_count": 11,
   "metadata": {},
   "outputs": [],
   "source": [
    "subjects_used = pd.read_csv(\"../data/final_subjects_used.txt\").SUB_ID.to_list()"
   ]
  },
  {
   "cell_type": "code",
   "execution_count": 14,
   "metadata": {},
   "outputs": [],
   "source": [
    "YY_df_final = pd.merge(pd.DataFrame({\"ePrime.id\":subjects_used}),  YY_df, on=\"ePrime.id\")"
   ]
  },
  {
   "cell_type": "code",
   "execution_count": 15,
   "metadata": {},
   "outputs": [
    {
     "name": "stdout",
     "output_type": "stream",
     "text": [
      "the number of participants considered are 145\n"
     ]
    }
   ],
   "source": [
    "print(\"the number of participants considered are %d\" % YY_df_final.shape[0])"
   ]
  },
  {
   "cell_type": "code",
   "execution_count": 16,
   "metadata": {},
   "outputs": [
    {
     "data": {
      "text/plain": [
       "2    78\n",
       "1    67\n",
       "Name: gender, dtype: int64"
      ]
     },
     "execution_count": 16,
     "metadata": {},
     "output_type": "execute_result"
    }
   ],
   "source": [
    "YY_df_final.gender.value_counts()"
   ]
  },
  {
   "cell_type": "code",
   "execution_count": 17,
   "metadata": {},
   "outputs": [
    {
     "name": "stdout",
     "output_type": "stream",
     "text": [
      "AGE mean 40.49 and SD =  6.10\n"
     ]
    }
   ],
   "source": [
    "print(\"AGE mean %.2f and SD =  %.2f\" % (YY_df_final.age.mean(), YY_df_final.age.std()))"
   ]
  },
  {
   "cell_type": "code",
   "execution_count": 18,
   "metadata": {},
   "outputs": [
    {
     "name": "stdout",
     "output_type": "stream",
     "text": [
      "AGE min 30, max  51\n"
     ]
    }
   ],
   "source": [
    "print(\"AGE min %d, max  %d\" % (YY_df_final.age.min(), YY_df_final.age.max()))"
   ]
  },
  {
   "cell_type": "code",
   "execution_count": 22,
   "metadata": {},
   "outputs": [
    {
     "data": {
      "text/plain": [
       "count    145.000000\n",
       "mean       0.005645\n",
       "std        0.022901\n",
       "min       -0.062986\n",
       "25%       -0.008030\n",
       "50%        0.004799\n",
       "75%        0.017971\n",
       "max        0.078214\n",
       "Name: mavgccaf_chgPerYr, dtype: float64"
      ]
     },
     "execution_count": 22,
     "metadata": {},
     "output_type": "execute_result"
    }
   ],
   "source": [
    "YY_df_final.mavgccaf_chgPerYr.describe()"
   ]
  },
  {
   "cell_type": "code",
   "execution_count": 23,
   "metadata": {},
   "outputs": [
    {
     "data": {
      "text/plain": [
       "count    145.000000\n",
       "mean       0.090364\n",
       "std        0.116544\n",
       "min       -0.039791\n",
       "25%        0.038502\n",
       "50%        0.060239\n",
       "75%        0.100740\n",
       "max        0.989256\n",
       "Name: Site_of_Fastest_IMT_Max_Progr, dtype: float64"
      ]
     },
     "execution_count": 23,
     "metadata": {},
     "output_type": "execute_result"
    }
   ],
   "source": [
    "YY_df_final.Site_of_Fastest_IMT_Max_Progr.describe()"
   ]
  },
  {
   "cell_type": "code",
   "execution_count": null,
   "metadata": {},
   "outputs": [],
   "source": []
  }
 ],
 "metadata": {
  "kernelspec": {
   "display_name": "Python 3",
   "language": "python",
   "name": "python3"
  },
  "language_info": {
   "codemirror_mode": {
    "name": "ipython",
    "version": 3
   },
   "file_extension": ".py",
   "mimetype": "text/x-python",
   "name": "python",
   "nbconvert_exporter": "python",
   "pygments_lexer": "ipython3",
   "version": "3.8.5"
  }
 },
 "nbformat": 4,
 "nbformat_minor": 4
}
