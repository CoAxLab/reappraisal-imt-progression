{
 "cells": [
  {
   "cell_type": "markdown",
   "metadata": {},
   "source": [
    "import pandas as pd\n",
    "# ^^^ pyforest auto-imports - don't write above this line\n",
    "Notebook to prepare the data"
   ]
  },
  {
   "cell_type": "code",
   "execution_count": 1,
   "metadata": {},
   "outputs": [],
   "source": [
    "import numpy as np\n",
    "import pandas as pd\n",
    "from glob import glob\n",
    "from os.path import join as opj\n",
    "from nilearn import image\n",
    "from nilearn.masking import apply_mask"
   ]
  },
  {
   "cell_type": "code",
   "execution_count": 2,
   "metadata": {},
   "outputs": [],
   "source": [
    "response_vars = [\"mavgccaf_chgPerYr\", \"Site_of_Fastest_IMT_Max_Progr\"]\n",
    "YY_df = pd.read_csv(\"../data/Thomas_Javi_ML_Share_PIP_Reappraisal_IMT_Longitudinal_02_NOV_2020.csv\", na_values=' ').loc[:, [\"ePrime.id\"] + response_vars]"
   ]
  },
  {
   "cell_type": "code",
   "execution_count": 3,
   "metadata": {},
   "outputs": [
    {
     "name": "stdout",
     "output_type": "stream",
     "text": [
      "the number of final subjects for prediction used are then = 145\n"
     ]
    }
   ],
   "source": [
    "final_subjects_used = YY_df.dropna().iloc[:,0].to_list()\n",
    "print(\"the number of final subjects for prediction used are then = %i\" % len(final_subjects_used))"
   ]
  },
  {
   "cell_type": "code",
   "execution_count": 4,
   "metadata": {},
   "outputs": [],
   "source": [
    "# This is the mask that we are going to use to keep only grey matter voxels\n",
    "mask = \"../data/reslicedER_grey25grey25.nii\""
   ]
  },
  {
   "cell_type": "code",
   "execution_count": 5,
   "metadata": {},
   "outputs": [
    {
     "name": "stdout",
     "output_type": "stream",
     "text": [
      "(79, 95, 79)\n",
      "(79, 95, 79)\n"
     ]
    }
   ],
   "source": [
    "# As a sanity check, see that contrasts and mask have the same dimension\n",
    "print(image.load_img(mask).shape)\n",
    "print(image.load_img(opj(\"../data/\", \"contrasts\", \"sub-%s\" % final_subjects_used[0], \"con_0001.nii\")).shape)"
   ]
  },
  {
   "cell_type": "markdown",
   "metadata": {},
   "source": [
    "# data main analyses"
   ]
  },
  {
   "cell_type": "code",
   "execution_count": 7,
   "metadata": {},
   "outputs": [
    {
     "name": "stdout",
     "output_type": "stream",
     "text": [
      "(145, 207584)\n",
      "(145, 207584)\n"
     ]
    },
    {
     "data": {
      "text/plain": [
       "(145, 21)"
      ]
     },
     "execution_count": 7,
     "metadata": {},
     "output_type": "execute_result"
    }
   ],
   "source": [
    "imgs_0001 = [opj(\"../data/\", \"contrasts\", \"sub-%s\" % sub_id, \"con_0001.nii\") for sub_id in final_subjects_used]\n",
    "imgs_0002 = [opj(\"../data/\", \"contrasts\", \"sub-%s\" % sub_id, \"con_0002.nii\") for sub_id in final_subjects_used]\n",
    "\n",
    "X_1 = apply_mask(imgs_0001, mask)\n",
    "X_2 = apply_mask(imgs_0002, mask)\n",
    "\n",
    "print(X_1.shape)\n",
    "print(X_2.shape)\n",
    "\n",
    "# Save input data\n",
    "np.savez(\"../data/input_data.npz\", look_neg_look_neut =  X_1, reg_neg_look_neg = X_2)\n",
    "\n",
    "# Save target data for main analyses\n",
    "pd.merge(pd.DataFrame({'ePrime.id':final_subjects_used}), \n",
    "         pd.read_csv(\"../data/Thomas_Javi_ML_Share_PIP_Reappraisal_IMT_Longitudinal_02_NOV_2020.csv\", \n",
    "                     na_values=' '), \n",
    "         on = 'ePrime.id').to_csv(\"../data/target_data.csv\", index=False)\n",
    "pd.read_csv(\"../data/target_data.csv\").shape"
   ]
  },
  {
   "cell_type": "markdown",
   "metadata": {},
   "source": [
    "# data sensitivity analyses"
   ]
  },
  {
   "cell_type": "code",
   "execution_count": 8,
   "metadata": {},
   "outputs": [
    {
     "name": "stdout",
     "output_type": "stream",
     "text": [
      "number of subjects to drop for sensitivity analysys =  8\n",
      "number of subjects to run the sensitivity analyses =  137\n"
     ]
    }
   ],
   "source": [
    "to_discard = np.loadtxt(\"../data/subjects_discard_sensitivity.txt\", dtype=int)\n",
    "print(\"number of subjects to drop for sensitivity analysys = \", len(to_discard))\n",
    "\n",
    "subject_sensitivity = list(set(final_subjects_used).difference(set(to_discard)))\n",
    "print(\"number of subjects to run the sensitivity analyses = \", len(subject_sensitivity))"
   ]
  },
  {
   "cell_type": "code",
   "execution_count": 9,
   "metadata": {},
   "outputs": [
    {
     "name": "stdout",
     "output_type": "stream",
     "text": [
      "(137, 207584)\n",
      "(137, 207584)\n"
     ]
    },
    {
     "data": {
      "text/plain": [
       "(137, 21)"
      ]
     },
     "execution_count": 9,
     "metadata": {},
     "output_type": "execute_result"
    }
   ],
   "source": [
    "imgs_0001 = [opj(\"../data/\", \"contrasts\", \"sub-%s\" % sub_id, \"con_0001.nii\") for sub_id in subject_sensitivity]\n",
    "imgs_0002 = [opj(\"../data/\", \"contrasts\", \"sub-%s\" % sub_id, \"con_0002.nii\") for sub_id in subject_sensitivity]\n",
    "\n",
    "X_1 = apply_mask(imgs_0001, mask)\n",
    "X_2 = apply_mask(imgs_0002, mask)\n",
    "\n",
    "print(X_1.shape)\n",
    "print(X_2.shape)\n",
    "\n",
    "# Save input data for sensitivity analyses\n",
    "np.savez(\"../data/input_data_sensitivity.npz\", \n",
    "         look_neg_look_neut =  X_1, \n",
    "         reg_neg_look_neg = X_2)\n",
    "\n",
    "# Save target data for sensitivity analyses\n",
    "pd.merge(pd.DataFrame({'ePrime.id':subject_sensitivity}), \n",
    "         pd.read_csv(\"../data/Thomas_Javi_ML_Share_PIP_Reappraisal_IMT_Longitudinal_02_NOV_2020.csv\", na_values=' '), \n",
    "         on = 'ePrime.id').to_csv(\"../data/target_data_sensitivity.csv\", index=False)\n",
    "pd.read_csv(\"../data/target_data_sensitivity.csv\").shape"
   ]
  }
 ],
 "metadata": {
  "kernelspec": {
   "display_name": "Python 3",
   "language": "python",
   "name": "python3"
  },
  "language_info": {
   "codemirror_mode": {
    "name": "ipython",
    "version": 3
   },
   "file_extension": ".py",
   "mimetype": "text/x-python",
   "name": "python",
   "nbconvert_exporter": "python",
   "pygments_lexer": "ipython3",
   "version": "3.8.5"
  }
 },
 "nbformat": 4,
 "nbformat_minor": 4
}
